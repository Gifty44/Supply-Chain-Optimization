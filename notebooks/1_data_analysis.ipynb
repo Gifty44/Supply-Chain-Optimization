{
 "cells": [
  {
   "cell_type": "code",
   "execution_count": 1,
   "metadata": {},
   "outputs": [
    {
     "ename": "ModuleNotFoundError",
     "evalue": "No module named 'pandas'",
     "output_type": "error",
     "traceback": [
      "\u001b[31m---------------------------------------------------------------------------\u001b[39m",
      "\u001b[31mModuleNotFoundError\u001b[39m                       Traceback (most recent call last)",
      "\u001b[36mCell\u001b[39m\u001b[36m \u001b[39m\u001b[32mIn[1]\u001b[39m\u001b[32m, line 2\u001b[39m\n\u001b[32m      1\u001b[39m \u001b[38;5;66;03m# 1_data_analysis.ipynb\u001b[39;00m\n\u001b[32m----> \u001b[39m\u001b[32m2\u001b[39m \u001b[38;5;28;01mimport\u001b[39;00m\u001b[38;5;250m \u001b[39m\u001b[34;01mpandas\u001b[39;00m\u001b[38;5;250m \u001b[39m\u001b[38;5;28;01mas\u001b[39;00m\u001b[38;5;250m \u001b[39m\u001b[34;01mpd\u001b[39;00m\n\u001b[32m      3\u001b[39m \u001b[38;5;28;01mimport\u001b[39;00m\u001b[38;5;250m \u001b[39m\u001b[34;01mmatplotlib\u001b[39;00m\u001b[34;01m.\u001b[39;00m\u001b[34;01mpyplot\u001b[39;00m\u001b[38;5;250m \u001b[39m\u001b[38;5;28;01mas\u001b[39;00m\u001b[38;5;250m \u001b[39m\u001b[34;01mplt\u001b[39;00m\n\u001b[32m      4\u001b[39m \u001b[38;5;28;01mimport\u001b[39;00m\u001b[38;5;250m \u001b[39m\u001b[34;01mseaborn\u001b[39;00m\u001b[38;5;250m \u001b[39m\u001b[38;5;28;01mas\u001b[39;00m\u001b[38;5;250m \u001b[39m\u001b[34;01msns\u001b[39;00m\n",
      "\u001b[31mModuleNotFoundError\u001b[39m: No module named 'pandas'"
     ]
    }
   ],
   "source": [
    "# 1_data_analysis.ipynb\n",
    "import pandas as pd\n",
    "import matplotlib.pyplot as plt\n",
    "import seaborn as sns\n",
    "\n",
    "# Load the data\n",
    "data = pd.read_csv('../data/shipping_data.csv')\n",
    "\n",
    "# Add calculated columns\n",
    "data['cost_per_km'] = data['shipping_cost'] / data['distance_km']\n",
    "data['cost_per_kg'] = data['shipping_cost'] / data['weight_kg']\n",
    "\n",
    "# Basic statistics\n",
    "print(\"Basic Statistics:\")\n",
    "print(data.describe())\n",
    "\n",
    "# Visualize shipping costs by carrier\n",
    "plt.figure(figsize=(10, 6))\n",
    "sns.barplot(x='carrier', y='shipping_cost', data=data)\n",
    "plt.title('Average Shipping Cost by Carrier')\n",
    "plt.ylabel('Shipping Cost ($)')\n",
    "plt.savefig('../results/carrier_costs.png')\n",
    "plt.show()\n",
    "\n",
    "# Visualize cost per km by route\n",
    "plt.figure(figsize=(12, 6))\n",
    "routes = data['origin'] + ' to ' + data['destination']\n",
    "sns.barplot(x=routes, y='cost_per_km', data=data)\n",
    "plt.title('Cost per Kilometer by Route')\n",
    "plt.xticks(rotation=45)\n",
    "plt.tight_layout()\n",
    "plt.savefig('../results/route_costs.png')\n",
    "plt.show()\n",
    "\n",
    "# Find the most expensive routes\n",
    "print(\"\\nMost Expensive Routes (by cost per km):\")\n",
    "route_costs = data.groupby(['origin', 'destination'])['cost_per_km'].mean().reset_index()\n",
    "print(route_costs.sort_values('cost_per_km', ascending=False).head())\n",
    "\n",
    "# Find the cheapest carrier for each route\n",
    "print(\"\\nCheapest Carrier for Each Route:\")\n",
    "cheapest_carriers = data.groupby(['origin', 'destination', 'carrier'])['shipping_cost'].mean().reset_index()\n",
    "cheapest_carriers = cheapest_carriers.loc[cheapest_carriers.groupby(['origin', 'destination'])['shipping_cost'].idxmin()]\n",
    "print(cheapest_carriers[['origin', 'destination', 'carrier', 'shipping_cost']])\n"
   ]
  }
 ],
 "metadata": {
  "kernelspec": {
   "display_name": "Python 3",
   "language": "python",
   "name": "python3"
  },
  "language_info": {
   "codemirror_mode": {
    "name": "ipython",
    "version": 3
   },
   "file_extension": ".py",
   "mimetype": "text/x-python",
   "name": "python",
   "nbconvert_exporter": "python",
   "pygments_lexer": "ipython3",
   "version": "3.13.2"
  }
 },
 "nbformat": 4,
 "nbformat_minor": 2
}
